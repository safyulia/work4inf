{
 "cells": [
  {
   "cell_type": "markdown",
   "metadata": {},
   "source": [
    "# Строки "
   ]
  },
  {
   "cell_type": "code",
   "execution_count": 95,
   "metadata": {
    "scrolled": true
   },
   "outputs": [
    {
     "name": "stdout",
     "output_type": "stream",
     "text": [
      "My name is Fred\n"
     ]
    }
   ],
   "source": [
    "print('My name is {}'.format('Fred'))"
   ]
  },
  {
   "cell_type": "code",
   "execution_count": 98,
   "metadata": {
    "scrolled": true
   },
   "outputs": [
    {
     "name": "stdout",
     "output_type": "stream",
     "text": [
      "Swaroop написал A Byte of Python\n"
     ]
    }
   ],
   "source": [
    "print('{name} написал {book}'.format(name='Swaroop', book='A Byte of Python'))\n"
   ]
  },
  {
   "cell_type": "code",
   "execution_count": 99,
   "metadata": {},
   "outputs": [
    {
     "name": "stdout",
     "output_type": "stream",
     "text": [
      "Возраст Swaroop -- 26 лет.\n",
      "Почему Swaroop забавляется с этим Python?\n"
     ]
    }
   ],
   "source": [
    "age = 26\n",
    "name = 'Swaroop'\n",
    "print('Возраст {} -- {} лет.'.format(name, age))\n",
    "print('Почему {} забавляется с этим Python?'.format(name))"
   ]
  },
  {
   "cell_type": "code",
   "execution_count": 111,
   "metadata": {
    "scrolled": true
   },
   "outputs": [
    {
     "name": "stdout",
     "output_type": "stream",
     "text": [
      "0.0011\n",
      "0.33\n"
     ]
    }
   ],
   "source": [
    "print('{0:.2}'.format(1/900))\n",
    "print('{0:.2}'.format(1/3))"
   ]
  },
  {
   "cell_type": "code",
   "execution_count": 125,
   "metadata": {},
   "outputs": [
    {
     "data": {
      "text/plain": [
       "'        hello        '"
      ]
     },
     "execution_count": 125,
     "metadata": {},
     "output_type": "execute_result"
    }
   ],
   "source": [
    "'{0:^21}'.format('hello')"
   ]
  },
  {
   "cell_type": "code",
   "execution_count": 126,
   "metadata": {},
   "outputs": [
    {
     "name": "stdout",
     "output_type": "stream",
     "text": [
      "Это многострочная строка.\n",
      "Это вторая её строчка.\n"
     ]
    }
   ],
   "source": [
    "s = '''Это многострочная строка.\n",
    "Это вторая её строчка.'''\n",
    "print(s)"
   ]
  },
  {
   "cell_type": "markdown",
   "metadata": {},
   "source": [
    "# Циклы"
   ]
  },
  {
   "cell_type": "code",
   "execution_count": 18,
   "metadata": {
    "scrolled": false
   },
   "outputs": [
    {
     "name": "stdout",
     "output_type": "stream",
     "text": [
      "uWu\n",
      "u= 2\n",
      "uWu\n",
      "u= 3\n",
      "uWu\n",
      "u= 4\n",
      "uWu\n",
      "u= 5\n",
      "uWu\n",
      "u= 6\n",
      "uWu\n",
      "u= 7\n",
      "uWu\n",
      "u= 8\n",
      "uWu\n",
      "u= 9\n",
      "uWu\n",
      "u= 10\n",
      "uWu\n"
     ]
    }
   ],
   "source": [
    "Condition = True #тип bool\n",
    "u = 1\n",
    "while Condition:\n",
    "    print(\"uWu\")\n",
    "    if u % 10 == 0:\n",
    "        break\n",
    "    u += 1\n",
    "    print('u=',u)\n",
    "    continue #все равно не пашет\n",
    "    print(\"You'll never see it\")\n",
    "    print('u=',u)"
   ]
  },
  {
   "cell_type": "code",
   "execution_count": 159,
   "metadata": {},
   "outputs": [
    {
     "name": "stdout",
     "output_type": "stream",
     "text": [
      "Введите целое число : 24\n",
      "Нет, загаданное число немного меньше этого.\n",
      "Введите целое число : 23\n",
      "Поздравляю, вы угадали.\n",
      "Цикл while закончен.\n"
     ]
    }
   ],
   "source": [
    "number = 23\n",
    "running = True\n",
    "while running:\n",
    " guess = int(input('Введите целое число : '))\n",
    " if guess == number:\n",
    "  print('Поздравляю, вы угадали.')\n",
    "  running = False # это останавливает цикл while\n",
    " elif guess < number:\n",
    "  print('Нет, загаданное число немного больше этого')\n",
    " else:\n",
    "  print('Нет, загаданное число немного меньше этого.')\n",
    "else:\n",
    " print('Цикл while закончен.')\n",
    "# Здесь можете выполнить всё что вам ещё нужно"
   ]
  },
  {
   "cell_type": "code",
   "execution_count": 3,
   "metadata": {},
   "outputs": [
    {
     "name": "stdout",
     "output_type": "stream",
     "text": [
      "Введите что-нибудь : sdfgfdg\n",
      "Введённая строка достаточной длины\n",
      "Введите что-нибудь : fg\n",
      "Слишком мало\n",
      "Введите что-нибудь : exit\n"
     ]
    }
   ],
   "source": [
    "while True:\n",
    " s = input('Введите что-нибудь : ')\n",
    " if s=='exit':\n",
    "  break\n",
    " if len(s) < 3:\n",
    "  print('Слишком мало')\n",
    "  continue\n",
    " else:\n",
    "    print('Введённая строка достаточной длины')"
   ]
  },
  {
   "cell_type": "markdown",
   "metadata": {},
   "source": [
    "# Структуры данных "
   ]
  },
  {
   "cell_type": "markdown",
   "metadata": {},
   "source": [
    "### Список"
   ]
  },
  {
   "cell_type": "markdown",
   "metadata": {},
   "source": [
    "Список - изменяемый тип"
   ]
  },
  {
   "cell_type": "code",
   "execution_count": 1,
   "metadata": {},
   "outputs": [
    {
     "name": "stdout",
     "output_type": "stream",
     "text": [
      "Я должен сделать  4 покупок.\n",
      "Покупки: яблоки манго морковь бананы \n",
      "Также нужно купить риса.\n",
      "Теперь мой список покупок таков: ['яблоки', 'манго', 'морковь', 'бананы', 'рис']\n",
      "Отсортирую-ка я свой список\n",
      "Отсортированный список покупок выглядит так: ['бананы', 'манго', 'морковь', 'рис', 'яблоки']\n",
      "Первое, что мне нужно купить, это бананы\n",
      "Я купил бананы\n",
      "Теперь мой список покупок: ['манго', 'морковь', 'рис', 'яблоки']\n"
     ]
    }
   ],
   "source": [
    "# Это мой список покупок\n",
    "shoplist = ['яблоки', 'манго', 'морковь', 'бананы']\n",
    "print('Я должен сделать ', len(shoplist), 'покупок.')\n",
    "print('Покупки:', end=' ')\n",
    "for item in shoplist:\n",
    " print(item, end=' ')\n",
    "print('\\nТакже нужно купить риса.')\n",
    "shoplist.append('рис')\n",
    "print('Теперь мой список покупок таков:', shoplist)\n",
    "print('Отсортирую-ка я свой список')\n",
    "shoplist.sort()\n",
    "print('Отсортированный список покупок выглядит так:', shoplist)\n",
    "print('Первое, что мне нужно купить, это', shoplist[0])\n",
    "olditem = shoplist[0]\n",
    "del shoplist[0]\n",
    "print('Я купил', olditem)\n",
    "print('Теперь мой список покупок:', shoplist)"
   ]
  },
  {
   "cell_type": "code",
   "execution_count": null,
   "metadata": {},
   "outputs": [],
   "source": [
    "функции"
   ]
  },
  {
   "cell_type": "code",
   "execution_count": null,
   "metadata": {},
   "outputs": [],
   "source": [
    "list.append(x)\tДобавляет элемент в конец списка\n",
    "list.extend(L)\tРасширяет список list, добавляя в конец все элементы списка L\n",
    "list.insert(i, x)\tВставляет на i-ый элемент значение x\n",
    "list.remove(x)\tУдаляет первый элемент в списке, имеющий значение x. ValueError, если такого элемента не существует\n",
    "list.pop([i])\tУдаляет i-ый элемент и возвращает его. Если индекс не указан, удаляется последний элемент\n",
    "list.index(x, [start [, end]])\tВозвращает положение первого элемента со значением x (при этом поиск ведется от start до end)\n",
    "list.count(x)\tВозвращает количество элементов со значением x\n",
    "list.sort([key=функция])\tСортирует список на основе функции\n",
    "list.reverse()\tРазворачивает список\n",
    "list.copy()\tПоверхностная копия списка\n",
    "list.clear()\tОчищает список"
   ]
  },
  {
   "cell_type": "markdown",
   "metadata": {},
   "source": [
    "### Кортеж"
   ]
  },
  {
   "cell_type": "markdown",
   "metadata": {},
   "source": [
    "Кортеж - можно в круглых скобках, но это не обязательно. Неизменямый тип."
   ]
  },
  {
   "cell_type": "code",
   "execution_count": 2,
   "metadata": {},
   "outputs": [
    {
     "name": "stdout",
     "output_type": "stream",
     "text": [
      "Количество животных в зоопарке - 3\n",
      "Количество клеток в зоопарке - 3\n",
      "Все животные в новом зоопарке: ('обезьяна', 'верблюд', ('питон', 'слон', 'пингвин'))\n",
      "Животные, привезённые из старого зоопарка: ('питон', 'слон', 'пингвин')\n",
      "Последнее животное, привезённое из старого зоопарка - пингвин\n",
      "Количество животных в новом зоопарке - 5\n"
     ]
    }
   ],
   "source": [
    "zoo = ('питон', 'слон', 'пингвин') # помните, что скобки не обязательны\n",
    "print('Количество животных в зоопарке -', len(zoo))\n",
    "new_zoo = 'обезьяна', 'верблюд', zoo\n",
    "print('Количество клеток в зоопарке -', len(new_zoo))\n",
    "print('Все животные в новом зоопарке:', new_zoo)\n",
    "print('Животные, привезённые из старого зоопарка:', new_zoo[2])\n",
    "print('Последнее животное, привезённое из старого зоопарка -', new_zoo[2][2])\n",
    "print('Количество животных в новом зоопарке -', len(new_zoo)-1+len(new_zoo[2]))"
   ]
  },
  {
   "cell_type": "markdown",
   "metadata": {},
   "source": [
    ">Хотя скобки и не являются обязательными, я предпочитаю всегда указывать их, что-\n",
    "бы было очевидно, что это кортеж, особенно в двусмысленных случаях. Например,\n",
    "“print(1,2,3)” и “print( (1,2,3) )” делают разные вещи: первое выражение выводит\n",
    "три числа, тогда как второе – кортеж, содержащий эти три числа."
   ]
  },
  {
   "cell_type": "markdown",
   "metadata": {},
   "source": [
    ">**Кортеж, содержащий 0 или 1 элемент**\n",
    "\n",
    ">Пустой кортеж создаётся при помощи пустой пары скобок – “myempty = ()”. Однако, с кортежем из одного элемента не всё так просто. Его нужно указывать при помощи запятой после первого (и единственного) элемента, чтобы Python мог отличить кортеж от скобок, окружающих объект в выражении. Таким образом, чтобы получить кортеж, содержащий элемент 2, вам потребуется указать “singleton = (2,)”."
   ]
  },
  {
   "cell_type": "markdown",
   "metadata": {},
   "source": [
    "### Словарь"
   ]
  },
  {
   "cell_type": "markdown",
   "metadata": {},
   "source": [
    "- Словарь – это некий аналог адресной книги.\n",
    "Ключи (имена) связаны со значениями (информацией). \n",
    "Словарь: “d = {key1 : value1, key2 : value2 }”\n",
    "\n",
    ">Ключ должен быть уникальным, могут использоваться только неизменяемые объекты (как строки), только простые объекты.\n",
    "Значение - как неизменяемые, так и изменяемые объекты.пары ключ-значение никоим образом не упорядочены в словаре. Если вам необходим некоторый порядок, вам придётся отдельно отсортировать словарь перед об-\n",
    "ращением к нему.\n",
    "\n",
    ">Словари являются экземплярами/объектами класса dict."
   ]
  },
  {
   "cell_type": "code",
   "execution_count": 11,
   "metadata": {},
   "outputs": [
    {
     "name": "stdout",
     "output_type": "stream",
     "text": [
      "Адрес Swaroop'а: swaroop@swaroopch.com\n",
      "\n",
      "В адресной книге 3 контактов\n",
      "\n",
      "Контакт Swaroop с адресом swaroop@swaroopch.com\n",
      "Контакт Larry с адресом larry@wall.org\n",
      "Контакт Matsumoto с адресом matz@ruby-lang.org\n",
      "\n",
      "Адрес Guido: guido@python.org\n"
     ]
    }
   ],
   "source": [
    "ab = { 'Swaroop' : 'swaroop@swaroopch.com',\n",
    "'Larry' : 'larry@wall.org',\n",
    "'Matsumoto' : 'matz@ruby-lang.org',\n",
    "'Spammer' : 'spammer@hotmail.com'\n",
    "     }\n",
    "print(\"Адрес Swaroop'а:\", ab['Swaroop'])\n",
    "\n",
    "# Удаление пары ключ-значение\n",
    "del ab['Spammer']\n",
    "print('\\nВ адресной книге {0} контактов\\n'.format(len(ab)))\n",
    "\n",
    "#метод items возвращает список кортежей, далее пары ключ и значение присваиваем переменным name и address соответственно в цикле for..in\n",
    "for name, address in ab.items():\n",
    " print('Контакт {0} с адресом {1}'.format(name, address))\n",
    "\n",
    "# Добавление пары ключ-значение\n",
    "ab['Guido'] = 'guido@python.org'\n",
    "if 'Guido' in ab:\n",
    " print(\"\\nАдрес Guido:\", ab['Guido'])"
   ]
  },
  {
   "cell_type": "markdown",
   "metadata": {},
   "source": [
    "### Последовательности"
   ]
  },
  {
   "cell_type": "markdown",
   "metadata": {},
   "source": [
    "- arange"
   ]
  },
  {
   "cell_type": "code",
   "execution_count": 61,
   "metadata": {
    "scrolled": false
   },
   "outputs": [
    {
     "data": {
      "text/plain": [
       "array([0. , 0.1, 0.2, 0.3, 0.4, 0.5, 0.6, 0.7, 0.8, 0.9])"
      ]
     },
     "execution_count": 61,
     "metadata": {},
     "output_type": "execute_result"
    }
   ],
   "source": [
    "np.arange(0, 1, 0.1)"
   ]
  },
  {
   "cell_type": "code",
   "execution_count": 63,
   "metadata": {
    "scrolled": true
   },
   "outputs": [
    {
     "data": {
      "text/plain": [
       "array([0.  , 0.25, 0.5 , 0.75, 1.  , 1.25, 1.5 , 1.75, 2.  ])"
      ]
     },
     "execution_count": 63,
     "metadata": {},
     "output_type": "execute_result"
    }
   ],
   "source": [
    "np.linspace(0, 2, 9)  # 9 чисел от 0 до 2 включительно"
   ]
  },
  {
   "cell_type": "code",
   "execution_count": 84,
   "metadata": {
    "scrolled": true
   },
   "outputs": [
    {
     "data": {
      "text/plain": [
       "array([1, 2, 3])"
      ]
     },
     "execution_count": 84,
     "metadata": {},
     "output_type": "execute_result"
    }
   ],
   "source": [
    "np.arange (1,4)"
   ]
  },
  {
   "cell_type": "code",
   "execution_count": 86,
   "metadata": {
    "scrolled": false
   },
   "outputs": [
    {
     "data": {
      "text/plain": [
       "array([ True,  True, False, False])"
      ]
     },
     "execution_count": 86,
     "metadata": {},
     "output_type": "execute_result"
    }
   ],
   "source": [
    "a<30"
   ]
  },
  {
   "cell_type": "code",
   "execution_count": 87,
   "metadata": {
    "scrolled": true
   },
   "outputs": [
    {
     "data": {
      "text/plain": [
       "array([16, 21, 31, 56])"
      ]
     },
     "execution_count": 87,
     "metadata": {},
     "output_type": "execute_result"
    }
   ],
   "source": [
    "a+1\n"
   ]
  },
  {
   "cell_type": "code",
   "execution_count": null,
   "metadata": {},
   "outputs": [],
   "source": []
  },
  {
   "cell_type": "code",
   "execution_count": 15,
   "metadata": {},
   "outputs": [
    {
     "name": "stdout",
     "output_type": "stream",
     "text": [
      "Элемент 0 - яблоки\n",
      "Элемент 1 - манго\n",
      "Элемент 2 - морковь\n",
      "Элемент 3 - бананы\n",
      "Элемент -1 - бананы\n",
      "Элемент -2 - морковь\n",
      "Символ 0 - s\n",
      "Элементы с 1 по 3: ['манго', 'морковь']\n",
      "Элементы с 2 до конца: ['морковь', 'бананы']\n",
      "Элементы с 1 по -1: ['манго', 'морковь']\n",
      "Элементы от начала до конца: ['яблоки', 'манго', 'морковь', 'бананы']\n",
      "Символы с 1 по 3: wa\n",
      "Символы с 2 до конца: aroop\n",
      "Символы с 1 до -1: waroo\n",
      "Символы от начала до конца: swaroop\n"
     ]
    }
   ],
   "source": [
    "shoplist = ['яблоки', 'манго', 'морковь', 'бананы']\n",
    "name = 'swaroop'\n",
    "# Операция индексирования\n",
    "print('Элемент 0 -', shoplist[0])\n",
    "print('Элемент 1 -', shoplist[1])\n",
    "print('Элемент 2 -', shoplist[2])\n",
    "print('Элемент 3 -', shoplist[3])\n",
    "print('Элемент -1 -', shoplist[-1])\n",
    "print('Элемент -2 -', shoplist[-2])\n",
    "print('Символ 0 -', name[0])\n",
    "# Вырезка из списка\n",
    "print('Элементы с 1 по 3:', shoplist[1:3])\n",
    "print('Элементы с 2 до конца:', shoplist[2:])\n",
    "print('Элементы с 1 по -1:', shoplist[1:-1])\n",
    "print('Элементы от начала до конца:', shoplist[:])\n",
    "print('Символы с 1 по 3:', name[1:3])\n",
    "print('Символы с 2 до конца:', name[2:])\n",
    "print('Символы с 1 до -1:', name[1:-1])\n",
    "print('Символы от начала до конца:', name[:]) #двоеточие обязательно! "
   ]
  },
  {
   "cell_type": "markdown",
   "metadata": {},
   "source": [
    ">полученная вырезка будет начинаться с указанной начальной позиции,\n",
    "а заканчиваться прямо перед указанной конечной позицией, т.е. начальная\n",
    "позиция будет включена в вырезку, а **конечная – нет.**"
   ]
  },
  {
   "cell_type": "code",
   "execution_count": null,
   "metadata": {},
   "outputs": [],
   "source": [
    "шаг вырезки (по умолчанию шаг вырезки равен 1):"
   ]
  },
  {
   "cell_type": "code",
   "execution_count": 24,
   "metadata": {
    "scrolled": true
   },
   "outputs": [
    {
     "name": "stdout",
     "output_type": "stream",
     "text": [
      "шаг 1: ['яблоки', 'манго', 'морковь', 'бананы']\n",
      "шаг 2: ['яблоки', 'морковь'] (элементы, находящиеся на позициях 0, 2,..)\n",
      "шаг 3: ['яблоки', 'бананы'] (элементы, находящиеся на позициях 0, 3,..)\n",
      "обратный порядок: ['бананы', 'морковь', 'манго', 'яблоки']\n"
     ]
    }
   ],
   "source": [
    "shoplist = ['яблоки', 'манго', 'морковь', 'бананы']\n",
    "\n",
    "print ('шаг 1:', shoplist[::1])\n",
    "\n",
    "print ('шаг 2:', shoplist[::2], '(элементы, находящиеся на позициях 0, 2,..)')\n",
    "\n",
    "print ('шаг 3:', shoplist[::3], '(элементы, находящиеся на позициях 0, 3,..)')\n",
    "\n",
    "print ('обратный порядок:', shoplist[::-1])"
   ]
  },
  {
   "cell_type": "markdown",
   "metadata": {},
   "source": [
    "### Множества "
   ]
  },
  {
   "cell_type": "code",
   "execution_count": 25,
   "metadata": {},
   "outputs": [
    {
     "data": {
      "text/plain": [
       "{'Бразилия', 'Индия'}"
      ]
     },
     "execution_count": 25,
     "metadata": {},
     "output_type": "execute_result"
    }
   ],
   "source": [
    ">>> bri = set(['Бразилия', 'Россия', 'Индия'])\n",
    ">>> 'Индия' in bri\n",
    "True\n",
    ">>> 'США' in bri\n",
    "False\n",
    ">>> bric = bri.copy()\n",
    ">>> bric.add('Китай') \n",
    ">>> bric.issuperset(bri)\n",
    "True\n",
    ">>> bri.remove('Россия')\n",
    ">>> bri & bric # OR bri.intersection(bric)\n",
    "{'Бразилия', 'Индия'}"
   ]
  },
  {
   "cell_type": "markdown",
   "metadata": {},
   "source": [
    "# Numpy"
   ]
  },
  {
   "cell_type": "markdown",
   "metadata": {},
   "source": [
    "### Создать массив"
   ]
  },
  {
   "cell_type": "markdown",
   "metadata": {},
   "source": [
    "- np.array (много переменных)\n",
    "- np.empty (две переменных)\n",
    "- np.eye (две переменных)\n",
    "- np.ones (3 переменных - еще количество массивов в начале)"
   ]
  },
  {
   "cell_type": "code",
   "execution_count": 28,
   "metadata": {},
   "outputs": [
    {
     "data": {
      "text/plain": [
       "array([15, 20, 30, 55])"
      ]
     },
     "execution_count": 28,
     "metadata": {},
     "output_type": "execute_result"
    }
   ],
   "source": [
    "import numpy as np\n",
    ">>> a = np.array([15, 20, 30, 55])\n",
    ">>> a"
   ]
  },
  {
   "cell_type": "code",
   "execution_count": 27,
   "metadata": {},
   "outputs": [
    {
     "data": {
      "text/plain": [
       "numpy.ndarray"
      ]
     },
     "execution_count": 27,
     "metadata": {},
     "output_type": "execute_result"
    }
   ],
   "source": [
    ">>> type(a)"
   ]
  },
  {
   "cell_type": "code",
   "execution_count": 6,
   "metadata": {
    "scrolled": true
   },
   "outputs": [
    {
     "name": "stdout",
     "output_type": "stream",
     "text": [
      "[[ 0.+0.j  6.+0.j  7.+0.j  8.+0.j  9.+0.j]\n",
      " [ 4.+0.j  5.+0.j  6.+0.j  7.+0.j  8.+0.j]\n",
      " [34.+0.j  5.+0.j  6.+0.j  6.+0.j  6.+0.j]]\n"
     ]
    },
    {
     "data": {
      "text/plain": [
       "numpy.ndarray"
      ]
     },
     "execution_count": 6,
     "metadata": {},
     "output_type": "execute_result"
    }
   ],
   "source": [
    "b=np.array ([[0,6,7,8,9],[4,5,6,7,8],[34,5,6,6,6]], dtype=np.complex)\n",
    "print('{}'.format(b))\n",
    "type(b)"
   ]
  },
  {
   "cell_type": "code",
   "execution_count": 148,
   "metadata": {},
   "outputs": [
    {
     "data": {
      "text/plain": [
       "array([2, 3, 5])"
      ]
     },
     "execution_count": 148,
     "metadata": {},
     "output_type": "execute_result"
    }
   ],
   "source": [
    "c=np.array((2,3,5))\n",
    "c"
   ]
  },
  {
   "cell_type": "code",
   "execution_count": 56,
   "metadata": {},
   "outputs": [
    {
     "data": {
      "text/plain": [
       "array([[0., 0., 0., 1., 0.],\n",
       "       [0., 0., 0., 0., 1.],\n",
       "       [0., 0., 0., 0., 0.],\n",
       "       [0., 0., 0., 0., 0.]])"
      ]
     },
     "execution_count": 56,
     "metadata": {},
     "output_type": "execute_result"
    }
   ],
   "source": [
    "np.eye(4,5)"
   ]
  },
  {
   "cell_type": "code",
   "execution_count": 41,
   "metadata": {
    "scrolled": true
   },
   "outputs": [
    {
     "data": {
      "text/plain": [
       "array([[0.00000000e+000, 0.00000000e+000, 0.00000000e+000],\n",
       "       [0.00000000e+000, 0.00000000e+000, 6.62047965e-321],\n",
       "       [6.01334412e-154, 6.01346930e-154, 1.28448405e-057]])"
      ]
     },
     "execution_count": 41,
     "metadata": {},
     "output_type": "execute_result"
    }
   ],
   "source": [
    "np.empty((3, 3))"
   ]
  },
  {
   "cell_type": "code",
   "execution_count": 29,
   "metadata": {
    "scrolled": true
   },
   "outputs": [
    {
     "data": {
      "text/plain": [
       "array([[[1],\n",
       "        [1]],\n",
       "\n",
       "       [[1],\n",
       "        [1]],\n",
       "\n",
       "       [[1],\n",
       "        [1]]])"
      ]
     },
     "execution_count": 29,
     "metadata": {},
     "output_type": "execute_result"
    }
   ],
   "source": [
    "\n",
    "b=np.ones((3, 2, 1),dtype=np.integer)\n",
    "b"
   ]
  },
  {
   "cell_type": "code",
   "execution_count": null,
   "metadata": {},
   "outputs": [],
   "source": [
    "Заполнение массива одинаковым значением"
   ]
  },
  {
   "cell_type": "code",
   "execution_count": 118,
   "metadata": {},
   "outputs": [
    {
     "data": {
      "text/plain": [
       "array([1., 2., 3.])"
      ]
     },
     "execution_count": 118,
     "metadata": {},
     "output_type": "execute_result"
    }
   ],
   "source": [
    "import numpy as np\n",
    "c = np.array([1, 2, 3], float)\n",
    "c"
   ]
  },
  {
   "cell_type": "code",
   "execution_count": 119,
   "metadata": {},
   "outputs": [
    {
     "data": {
      "text/plain": [
       "array([0., 0., 0.])"
      ]
     },
     "execution_count": 119,
     "metadata": {},
     "output_type": "execute_result"
    }
   ],
   "source": [
    "c.fill(0)\n",
    "c"
   ]
  },
  {
   "cell_type": "markdown",
   "metadata": {},
   "source": [
    "### Команды: работа с массивами "
   ]
  },
  {
   "cell_type": "markdown",
   "metadata": {},
   "source": [
    "**Петля для массива: np.fromfucntion (f, (a,b))**"
   ]
  },
  {
   "cell_type": "code",
   "execution_count": 31,
   "metadata": {
    "scrolled": false
   },
   "outputs": [
    {
     "data": {
      "text/plain": [
       "array([[  0.,   1.,   2., ...,  27.,  28.,  29.],\n",
       "       [  3.,   4.,   5., ...,  30.,  31.,  32.],\n",
       "       [  6.,   7.,   8., ...,  33.,  34.,  35.],\n",
       "       ...,\n",
       "       [111., 112., 113., ..., 138., 139., 140.],\n",
       "       [114., 115., 116., ..., 141., 142., 143.],\n",
       "       [117., 118., 119., ..., 144., 145., 146.]])"
      ]
     },
     "execution_count": 31,
     "metadata": {},
     "output_type": "execute_result"
    }
   ],
   "source": [
    "def f1(i,j):\n",
    "    return 3*i+j\n",
    "b = np.fromfunction(f1, (40,30))\n",
    "b"
   ]
  },
  {
   "cell_type": "markdown",
   "metadata": {},
   "source": [
    "**Другие команды**"
   ]
  },
  {
   "cell_type": "code",
   "execution_count": 33,
   "metadata": {},
   "outputs": [
    {
     "name": "stdout",
     "output_type": "stream",
     "text": [
      "21\n",
      "21\n",
      "1\n",
      "6\n",
      "[1 2 3]\n",
      "[1 4]\n"
     ]
    }
   ],
   "source": [
    "a = np.array([[1, 2, 3], [4, 5, 6]])\n",
    "#np.sum(a)\n",
    "print(a.sum())\n",
    "print(np.sum(a))\n",
    "print(a.min())\n",
    "print(a.max())\n",
    "\n",
    "print (a.min(axis=0))  # Наименьшее число в каждом столбце\n",
    "print (a.min(axis=1))  # Наименьшее число в каждой строке"
   ]
  },
  {
   "cell_type": "markdown",
   "metadata": {},
   "source": [
    "**Математические операции над массивами**\n"
   ]
  },
  {
   "cell_type": "code",
   "execution_count": 142,
   "metadata": {},
   "outputs": [
    {
     "data": {
      "text/plain": [
       "array([6., 4., 9.])"
      ]
     },
     "execution_count": 142,
     "metadata": {},
     "output_type": "execute_result"
    }
   ],
   "source": [
    ">>> a = np.array([1,2,3], float)\n",
    ">>> b = np.array([5,2,6], float)\n",
    ">>> a + b"
   ]
  },
  {
   "cell_type": "code",
   "execution_count": 141,
   "metadata": {},
   "outputs": [
    {
     "data": {
      "text/plain": [
       "array([-4.,  0., -3.])"
      ]
     },
     "execution_count": 141,
     "metadata": {},
     "output_type": "execute_result"
    }
   ],
   "source": [
    "a-b"
   ]
  },
  {
   "cell_type": "code",
   "execution_count": 138,
   "metadata": {},
   "outputs": [
    {
     "data": {
      "text/plain": [
       "array([ 5.,  4., 18.])"
      ]
     },
     "execution_count": 138,
     "metadata": {},
     "output_type": "execute_result"
    }
   ],
   "source": [
    "a * b"
   ]
  },
  {
   "cell_type": "code",
   "execution_count": 135,
   "metadata": {},
   "outputs": [
    {
     "data": {
      "text/plain": [
       "array([5., 1., 2.])"
      ]
     },
     "execution_count": 135,
     "metadata": {},
     "output_type": "execute_result"
    }
   ],
   "source": [
    "b / a"
   ]
  },
  {
   "cell_type": "code",
   "execution_count": 136,
   "metadata": {},
   "outputs": [
    {
     "data": {
      "text/plain": [
       "array([1., 0., 3.])"
      ]
     },
     "execution_count": 136,
     "metadata": {},
     "output_type": "execute_result"
    }
   ],
   "source": [
    "a % b"
   ]
  },
  {
   "cell_type": "code",
   "execution_count": 137,
   "metadata": {
    "scrolled": true
   },
   "outputs": [
    {
     "data": {
      "text/plain": [
       "array([  5.,   4., 216.])"
      ]
     },
     "execution_count": 137,
     "metadata": {},
     "output_type": "execute_result"
    }
   ],
   "source": [
    "b**a"
   ]
  },
  {
   "cell_type": "markdown",
   "metadata": {},
   "source": [
    ">могут быть применены поэлементно к массивам. Собственно функции: abs, sign, sqrt, log, log10, exp, sin, cos, tan, arcsin, arccos, arctan, sinh, cosh, tanh, arcsinh, arccosh, и arctanh."
   ]
  },
  {
   "cell_type": "code",
   "execution_count": 143,
   "metadata": {},
   "outputs": [
    {
     "data": {
      "text/plain": [
       "array([1., 2., 3.])"
      ]
     },
     "execution_count": 143,
     "metadata": {},
     "output_type": "execute_result"
    }
   ],
   "source": [
    "a = np.array([1, 4, 9], float)\n",
    "np.sqrt(a)"
   ]
  },
  {
   "cell_type": "markdown",
   "metadata": {},
   "source": [
    "**Функции floor, ceil и rint возвращают нижние, верхние или ближайшие (округлённое) значение:**"
   ]
  },
  {
   "cell_type": "code",
   "execution_count": null,
   "metadata": {},
   "outputs": [],
   "source": [
    ">>> a = np.array([1.1, 1.5, 1.9], float)\n",
    ">>> np.floor(a)\n",
    "array([ 1.,  1.,  1.])\n",
    ">>> np.ceil(a)\n",
    "array([ 2.,  2.,  2.])\n",
    ">>> np.rint(a)\n",
    "array([ 1.,  2.,  2.])"
   ]
  },
  {
   "cell_type": "markdown",
   "metadata": {},
   "source": [
    "**Важные математические константы:**"
   ]
  },
  {
   "cell_type": "code",
   "execution_count": 146,
   "metadata": {},
   "outputs": [
    {
     "name": "stdout",
     "output_type": "stream",
     "text": [
      "число пи: 3.141592653589793\n",
      "число эйлера: 2.718281828459045\n"
     ]
    }
   ],
   "source": [
    "print ('число пи:',np.pi)\n",
    "\n",
    "print ('число эйлера:', np.e)\n"
   ]
  },
  {
   "cell_type": "markdown",
   "metadata": {},
   "source": [
    "**Полиномы**"
   ]
  },
  {
   "cell_type": "code",
   "execution_count": 157,
   "metadata": {},
   "outputs": [
    {
     "data": {
      "text/plain": [
       "array([   1.,  -19.,  137., -461.,  702., -360.])"
      ]
     },
     "execution_count": 157,
     "metadata": {},
     "output_type": "execute_result"
    }
   ],
   "source": [
    "import numpy as np \n",
    "np.roots([1,-1,-5]) #возвращает корни от этого полинома \n",
    "\n",
    "np. poly ([1,3,4,5,6]) #возвращает полином от этих корней\n",
    "\n",
    "np.polyder([1./4., 1./3., 1./2., 1., 0.])  #производная \n",
    "    \n",
    "np.polyint([1, 1, 1, 1])    # интеграл "
   ]
  },
  {
   "cell_type": "markdown",
   "metadata": {},
   "source": [
    "### Индексы, срезы, итерации"
   ]
  },
  {
   "cell_type": "markdown",
   "metadata": {},
   "source": [
    "Итерация в программировании — в широком смысле — организация обработки данных, при которой действия повторяются многократно, не приводя при этом к вызовам самих себя. В узком смысле — один шаг итерационного, циклического процесса."
   ]
  },
  {
   "cell_type": "code",
   "execution_count": 40,
   "metadata": {},
   "outputs": [
    {
     "name": "stdout",
     "output_type": "stream",
     "text": [
      "1\n",
      "[ 27  64 125 216]\n",
      "[  0   1   8   8   8   8   8 343 512 729]\n",
      "[729 512 343   8   8   8   8   8   1   0]\n",
      "0.0\n",
      "1.0\n",
      "2.0\n",
      "2.0\n",
      "2.0\n",
      "2.0\n",
      "2.0\n",
      "6.999999999999999\n",
      "7.999999999999999\n",
      "8.999999999999998\n"
     ]
    }
   ],
   "source": [
    "a = np.arange(10) ** 3\n",
    "print (a[1])\n",
    "print (a[3:7])\n",
    "\n",
    "#замена:\n",
    "a[3:7] = 8\n",
    "print (a)\n",
    "\n",
    "#реверс:\n",
    "print (a[::-1])\n",
    "\n",
    "#удаление: удалять кажется нельзя\n",
    "#del a[4]\n",
    "\n",
    "for i in a:\n",
    " print(i ** (1/3))"
   ]
  },
  {
   "cell_type": "code",
   "execution_count": 65,
   "metadata": {},
   "outputs": [
    {
     "name": "stdout",
     "output_type": "stream",
     "text": [
      "23\n",
      "23\n",
      "23\n",
      "третий столбец\n",
      "[ 2 12 22 32 42]\n",
      "первые две строчки\n",
      "[[ 0  1  2  3]\n",
      " [10 11 12 13]]\n",
      "вторая и третья строчки\n",
      "[[10 11 12 13]\n",
      " [20 21 22 23]]\n"
     ]
    }
   ],
   "source": [
    "import numpy as np\n",
    "b = np.array([[  0, 1, 2, 3],\n",
    "               [10, 11, 12, 13],\n",
    "               [20, 21, 22, 23],\n",
    "               [30, 31, 32, 33],\n",
    "               [40, 41, 42, 43]])\n",
    "\n",
    "print (b[2,3])  # 2 строка, 4 столбец\n",
    "print (b[(2,3)])\n",
    "print (b[2][3])  # Можно и так\n",
    "print ('третий столбец')\n",
    "print (b[:,2])  # Третий столбец\n",
    "print ('первые две строчки')\n",
    "print (b[:2,:])  # Первые две строки\n",
    "print ('вторая и третья строчки')\n",
    "print (b[1:3,:])  # Вторая и третья строки\n"
   ]
  },
  {
   "cell_type": "code",
   "execution_count": 67,
   "metadata": {},
   "outputs": [
    {
     "data": {
      "text/plain": [
       "array([[4, 5, 6, 8, 9],\n",
       "       [4, 5, 7, 8, 3],\n",
       "       [6, 2, 8, 0, 4]])"
      ]
     },
     "execution_count": 67,
     "metadata": {},
     "output_type": "execute_result"
    }
   ],
   "source": [
    "a= np.array ([[4,5,6,8,9], [4,5,7,8,3],[6,2,8,0,4]])\n",
    "a"
   ]
  },
  {
   "cell_type": "markdown",
   "metadata": {},
   "source": [
    "**Метод shape** возвращает количество строк и столбцов в матрице:"
   ]
  },
  {
   "cell_type": "code",
   "execution_count": 82,
   "metadata": {},
   "outputs": [
    {
     "data": {
      "text/plain": [
       "(3, 5)"
      ]
     },
     "execution_count": 82,
     "metadata": {},
     "output_type": "execute_result"
    }
   ],
   "source": [
    "a.shape"
   ]
  },
  {
   "cell_type": "markdown",
   "metadata": {},
   "source": [
    "**Метод dtype** возвращает тип переменных, хранящихся в массиве:"
   ]
  },
  {
   "cell_type": "code",
   "execution_count": 83,
   "metadata": {},
   "outputs": [
    {
     "data": {
      "text/plain": [
       "dtype('int32')"
      ]
     },
     "execution_count": 83,
     "metadata": {},
     "output_type": "execute_result"
    }
   ],
   "source": [
    "a.dtype"
   ]
  },
  {
   "cell_type": "markdown",
   "metadata": {},
   "source": [
    "**Метод len** возвращает длину первого измерения (оси):"
   ]
  },
  {
   "cell_type": "code",
   "execution_count": 88,
   "metadata": {},
   "outputs": [
    {
     "data": {
      "text/plain": [
       "2"
      ]
     },
     "execution_count": 88,
     "metadata": {},
     "output_type": "execute_result"
    }
   ],
   "source": [
    "ab = np.array ([[4,5,6], [4,5,6]])\n",
    "len(ab)"
   ]
  },
  {
   "cell_type": "markdown",
   "metadata": {},
   "source": [
    "**Метод in** используется для проверки на наличие элемента в массиве:"
   ]
  },
  {
   "cell_type": "code",
   "execution_count": 89,
   "metadata": {},
   "outputs": [
    {
     "data": {
      "text/plain": [
       "True"
      ]
     },
     "execution_count": 89,
     "metadata": {},
     "output_type": "execute_result"
    }
   ],
   "source": [
    ">>> a = np.array([[1, 2, 3], [4, 5, 6]], float)\n",
    ">>> 2 in a"
   ]
  },
  {
   "cell_type": "code",
   "execution_count": 90,
   "metadata": {},
   "outputs": [
    {
     "data": {
      "text/plain": [
       "False"
      ]
     },
     "execution_count": 90,
     "metadata": {},
     "output_type": "execute_result"
    }
   ],
   "source": [
    ">>> 0 in a"
   ]
  },
  {
   "cell_type": "markdown",
   "metadata": {},
   "source": [
    "**Копирование массива** "
   ]
  },
  {
   "cell_type": "code",
   "execution_count": 93,
   "metadata": {},
   "outputs": [
    {
     "name": "stdout",
     "output_type": "stream",
     "text": [
      "a:  [0. 2. 3.]\n",
      "b:  [0. 2. 3.]\n",
      "c:  [1. 2. 3.]\n"
     ]
    }
   ],
   "source": [
    "a = np.array([1, 2, 3], float)\n",
    "b = a\n",
    "c =  a.copy()\n",
    "a[0]= 0\n",
    "print ('a: ', a)\n",
    "print ('b: ', b)\n",
    "print ('c: ', c)"
   ]
  },
  {
   "cell_type": "markdown",
   "metadata": {},
   "source": [
    "**Изменение формы массива** "
   ]
  },
  {
   "cell_type": "code",
   "execution_count": 95,
   "metadata": {},
   "outputs": [
    {
     "data": {
      "text/plain": [
       "array([0., 1., 2., 3., 4., 5., 6., 7., 8., 9.])"
      ]
     },
     "execution_count": 95,
     "metadata": {},
     "output_type": "execute_result"
    }
   ],
   "source": [
    "a = np.array(range(10), float)\n",
    "a"
   ]
  },
  {
   "cell_type": "code",
   "execution_count": 98,
   "metadata": {},
   "outputs": [
    {
     "name": "stdout",
     "output_type": "stream",
     "text": [
      "[[0. 1.]\n",
      " [2. 3.]\n",
      " [4. 5.]\n",
      " [6. 7.]\n",
      " [8. 9.]]\n"
     ]
    },
    {
     "data": {
      "text/plain": [
       "(5, 2)"
      ]
     },
     "execution_count": 98,
     "metadata": {},
     "output_type": "execute_result"
    }
   ],
   "source": [
    "a = a.reshape((5, 2))\n",
    "print (a)\n",
    "a.shape\n"
   ]
  },
  {
   "cell_type": "markdown",
   "metadata": {},
   "source": [
    "**Cписки с массивов**"
   ]
  },
  {
   "cell_type": "code",
   "execution_count": 111,
   "metadata": {},
   "outputs": [
    {
     "data": {
      "text/plain": [
       "[array([1., 2., 3.]), array([2., 7., 4.])]"
      ]
     },
     "execution_count": 111,
     "metadata": {},
     "output_type": "execute_result"
    }
   ],
   "source": [
    "a = np.array([[1, 2, 3],[2,7,4]],  float)\n",
    "\n",
    "a.tolist()\n",
    "list(a)"
   ]
  },
  {
   "cell_type": "code",
   "execution_count": 112,
   "metadata": {},
   "outputs": [
    {
     "data": {
      "text/plain": [
       "[array([1., 2., 3.]), array([2., 7., 4.])]"
      ]
     },
     "execution_count": 112,
     "metadata": {},
     "output_type": "execute_result"
    }
   ],
   "source": [
    "list (a)"
   ]
  },
  {
   "cell_type": "markdown",
   "metadata": {},
   "source": [
    "Многомерный массив можно **переконвертировать в одномерный** при помощи метода flatten:"
   ]
  },
  {
   "cell_type": "code",
   "execution_count": 121,
   "metadata": {},
   "outputs": [
    {
     "name": "stdout",
     "output_type": "stream",
     "text": [
      "[[1. 2. 3.]\n",
      " [4. 5. 6.]]\n"
     ]
    },
    {
     "data": {
      "text/plain": [
       "array([1., 2., 3., 4., 5., 6.])"
      ]
     },
     "execution_count": 121,
     "metadata": {},
     "output_type": "execute_result"
    }
   ],
   "source": [
    "a = np.array([[1, 2, 3], [4, 5, 6]], float)\n",
    "print (a)\n",
    "\n",
    "a.flatten()\n"
   ]
  },
  {
   "cell_type": "markdown",
   "metadata": {},
   "source": [
    "**Транспонирование массивов** также возможно, при этом создается новый массив:\n"
   ]
  },
  {
   "cell_type": "code",
   "execution_count": 123,
   "metadata": {},
   "outputs": [
    {
     "name": "stdout",
     "output_type": "stream",
     "text": [
      "[[0. 1. 2.]\n",
      " [3. 4. 5.]]\n"
     ]
    },
    {
     "data": {
      "text/plain": [
       "array([[0., 3.],\n",
       "       [1., 4.],\n",
       "       [2., 5.]])"
      ]
     },
     "execution_count": 123,
     "metadata": {},
     "output_type": "execute_result"
    }
   ],
   "source": [
    "a = np.array(range(6), float).reshape((2, 3))\n",
    "print(a)\n",
    "\n",
    "a.transpose()\n"
   ]
  },
  {
   "cell_type": "markdown",
   "metadata": {},
   "source": [
    "**Конкатенация массивов**"
   ]
  },
  {
   "cell_type": "markdown",
   "metadata": {},
   "source": [
    ">Конкатена́ция — операция склеивания объектов линейной структуры, обычно строк."
   ]
  },
  {
   "cell_type": "code",
   "execution_count": 125,
   "metadata": {},
   "outputs": [
    {
     "data": {
      "text/plain": [
       "array([1., 2., 3., 4., 5., 6., 7., 8., 9.])"
      ]
     },
     "execution_count": 125,
     "metadata": {},
     "output_type": "execute_result"
    }
   ],
   "source": [
    "a = np.array([1,2], float)\n",
    "b = np.array([3,4,5,6], float)\n",
    "c = np.array([7,8,9], float)\n",
    "np.concatenate((a, b, c))"
   ]
  },
  {
   "cell_type": "markdown",
   "metadata": {},
   "source": [
    "### Случайные числа "
   ]
  },
  {
   "cell_type": "code",
   "execution_count": 168,
   "metadata": {},
   "outputs": [
    {
     "name": "stdout",
     "output_type": "stream",
     "text": [
      "[27.2 28.  28.7 23.  30.8 22.  27.8 31.3 36.2 24.5]\n"
     ]
    }
   ],
   "source": [
    "import numpy as np\n",
    "np.random.seed(1337)\n",
    "\n",
    "def czbkhunxjc(s):\n",
    "    s = 82+42+s\n",
    "    return(s)\n",
    "t = np.random.uniform(low=3, high=5, size=10)\n",
    "w = 85\n",
    "def aumsbgkcck(i):\n",
    "    i = 65+i\n",
    "    return(i)\n",
    "t = 23\n",
    "def thzfgfqslf(m):\n",
    "    m = 41-m\n",
    "    return(m)\n",
    "def soiazawbpo(d):\n",
    "    d = 46/46-d\n",
    "    return(d)\n",
    "def vsjyiqxzuu(l):\n",
    "    l = 31*l\n",
    "    return(l)\n",
    "def tflhgvgugt(m):\n",
    "    m = 95+4*m\n",
    "    return(m)\n",
    "w = 46\n",
    "print(np.round([thzfgfqslf(w) for w in w], 1))"
   ]
  },
  {
   "cell_type": "code",
   "execution_count": 161,
   "metadata": {},
   "outputs": [
    {
     "name": "stdout",
     "output_type": "stream",
     "text": [
      "Help on function round_ in module numpy:\n",
      "\n",
      "round_(a, decimals=0, out=None)\n",
      "    Round an array to the given number of decimals.\n",
      "    \n",
      "    See Also\n",
      "    --------\n",
      "    around : equivalent function; see for details.\n",
      "\n"
     ]
    }
   ],
   "source": [
    "help(np.round) \n"
   ]
  },
  {
   "cell_type": "code",
   "execution_count": null,
   "metadata": {},
   "outputs": [],
   "source": [
    "from ludwig.api import *\n",
    "\n",
    "model_definition = {\n",
    "    \"input_features\": [ \n",
    "        {\"name\": \"age\", \"type\": \"numerical\"}, \n",
    "________________________ПРОПУЩЕНО________________________\n",
    "\n",
    "________________________ПРОПУЩЕНО________________________\n",
    "\n",
    "        {\"name\": \"proportion\", \"type\": \"numerical\"}, \n",
    "        {\n",
    "            \"name\": \"photo\", \"type\": \"image\",  \n",
    "            \"preprocessing\": {\n",
    "                \"height\": 256, \"width\": 256  \n",
    "            }\n",
    "        },\n",
    "        {\n",
    "            \"name\": \"lnc_RNA_sequence\", \"type\": \"text\",  \n",
    "            \"preprocessing\": {\n",
    "                \"encoder\": \"rnn\",  \n",
    "________________________ПРОПУЩЕНО________________________\n",
    "\n",
    "________________________ПРОПУЩЕНО________________________\n",
    "\n",
    "________________________ПРОПУЩЕНО________________________\n",
    "\n",
    "            }\n",
    "        },\n",
    "    ],\n",
    "    \"output_features\": [ \n",
    "        {\"name\": \"target\", \"type\": \"category\"} \n",
    "    ]\n",
    "}\n",
    "model = LudwigModel(model_definition)\n",
    "train_stats = model.train(df) \n",
    "model.save(\"ludwig_model\")"
   ]
  }
 ],
 "metadata": {
  "kernelspec": {
   "display_name": "Python 3",
   "language": "python",
   "name": "python3"
  },
  "language_info": {
   "codemirror_mode": {
    "name": "ipython",
    "version": 3
   },
   "file_extension": ".py",
   "mimetype": "text/x-python",
   "name": "python",
   "nbconvert_exporter": "python",
   "pygments_lexer": "ipython3",
   "version": "3.7.4"
  }
 },
 "nbformat": 4,
 "nbformat_minor": 2
}
